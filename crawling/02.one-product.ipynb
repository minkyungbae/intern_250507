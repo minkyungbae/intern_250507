{
 "cells": [
  {
   "cell_type": "code",
   "execution_count": 57,
   "id": "ae347764",
   "metadata": {},
   "outputs": [
    {
     "name": "stdout",
     "output_type": "stream",
     "text": [
      "베스트셀러 IKEA Family 특별가RINNIG 린니그 행주, 화이트/다크그레이/패턴, 45x60 cm 가격 ￦ 4400/4 개 https://www.ikea.com/kr/ko/p/rinnig-tea-towel-white-dark-grey-patterned-80476348/\n"
     ]
    }
   ],
   "source": [
    "# 한 개의 상품 크롤링\n",
    "import requests\n",
    "from bs4 import BeautifulSoup\n",
    "\n",
    "response = requests.get(\"https://www.ikea.com/kr/ko/offers/family-offers/\")\n",
    "html = response.text\n",
    "soup = BeautifulSoup(html, \"html.parser\")\n",
    "# 23개의 카테고리\n",
    "soup.select_one(\".plp-product-badge.plp-product-badge--top-seller\")\n",
    "# 카테고리 명만\n",
    "category = soup.select_one(\".plp-product-badge.plp-product-badge--top-seller\").text\n",
    "# 상품명\n",
    "soup.select_one(\".plp-price-module__information\")\n",
    "# 상품명만\n",
    "product_name = soup.select_one(\".plp-price-module__information\").text\n",
    "# CSS 선택자에 공백이 존재한다면, 아래의 코드처럼 하면 불려와짐\n",
    "# href\n",
    "soup.find(\"a\", class_=[\n",
    "    \"plp-price-link-wrapper\",\n",
    "    \"plp-price-link-wrapper--list-view\",\n",
    "    \"link\"\n",
    "])\n",
    "# href만\n",
    "product_link = soup.find(\"a\", class_=[\n",
    "    \"plp-price-link-wrapper\",\n",
    "    \"plp-price-link-wrapper--list-view\",\n",
    "    \"link\"\n",
    "]).attrs['href']\n",
    "# 가격\n",
    "soup.find(\"div\", class_=[\"plp-price-module__price\"]).find(\"span\", class_=[\"plp-price__sr-text\"])\n",
    "# 가격만\n",
    "product_price = soup.find(\"div\", class_=[\"plp-price-module__price\"]).find(\"span\", class_=[\"plp-price__sr-text\"]).text\n",
    "# 정가\n",
    "origin_price = soup.find(\"div\", class_=[\"plp-price-module__addon\"]).find(\"span\", class_=[\"plp-price__sr-text\"]).text\n",
    "\n",
    "print(category, product_name, product_price, product_link)"
   ]
  }
 ],
 "metadata": {
  "kernelspec": {
   "display_name": "env",
   "language": "python",
   "name": "python3"
  },
  "language_info": {
   "codemirror_mode": {
    "name": "ipython",
    "version": 3
   },
   "file_extension": ".py",
   "mimetype": "text/x-python",
   "name": "python",
   "nbconvert_exporter": "python",
   "pygments_lexer": "ipython3",
   "version": "3.9.6"
  }
 },
 "nbformat": 4,
 "nbformat_minor": 5
}
