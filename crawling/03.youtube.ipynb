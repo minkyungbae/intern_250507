{
 "cells": [
  {
   "cell_type": "code",
   "execution_count": null,
   "id": "89af9139",
   "metadata": {},
   "outputs": [],
   "source": [
    "pip install selenium"
   ]
  },
  {
   "cell_type": "code",
   "execution_count": null,
   "id": "50bcffeb",
   "metadata": {},
   "outputs": [
    {
     "name": "stdout",
     "output_type": "stream",
     "text": [
      "버거킹, 우리의 아이디어를 꼭 들어주길 바랍니다\n"
     ]
    }
   ],
   "source": [
    "# selenium의 webdriver를 사용하기 위한 import\n",
    "from selenium import webdriver\n",
    "\n",
    "# selenium으로 키를 조작하기 위한 import\n",
    "from selenium.webdriver.common.keys import Keys\n",
    "\n",
    "# 로드될 때까지 기다리는 설정을 위한 import\n",
    "from selenium.webdriver.common.by import By\n",
    "from selenium.webdriver.support.ui import WebDriverWait\n",
    "from selenium.webdriver.support import expected_conditions as EC\n",
    "\n",
    "# 페이지 로딩을 기다리는데에 사용할 time 모듈 import\n",
    "import time\n",
    "\n",
    "# 크롬드라이버 실행\n",
    "# driver = webdriver.Chrome() # 창이 켜져서 없애기로 함250513 제리\n",
    "\n",
    "\n",
    "# 옵션 설정: Headless 모드로 실행되도록 설정 -> 창이 켜지지 않고 vscode 내에서 바로바로 실행 됨 250513 제리\n",
    "options = webdriver.ChromeOptions()\n",
    "options.add_argument('--headless')  # 브라우저 창 안 띄움\n",
    "options.add_argument('--disable-gpu')  # GPU 가속 비활성화 (Windows 환경에서 필요할 수 있음)\n",
    "options.add_argument('--no-sandbox')  # 리눅스에서 root 권한 문제 해결용\n",
    "options.add_argument('--disable-dev-shm-usage')  # 공유 메모리 사용 제한 문제 해결용\n",
    "\n",
    "# 크롬 드라이버 실행 (옵션 추가)\n",
    "driver = webdriver.Chrome(options=options)\n",
    "\n",
    "#크롬 드라이버에 url 주소 넣고 실행\n",
    "driver.get('https://youtu.be/w7uwgwj6aZM?si=kMxeRqkIo6AD--pn') # 침착맨 \"버거킹, 우리의 아이디어를 꼭 들어주길 바랍니다\"\n",
    "\n",
    "# 유튜브 영상의 제목 html 요소가 로드될 때까지 최대 60초 대기(xpath 방식으로 구현)\n",
    "youtube_title = WebDriverWait(driver, 60).until(\n",
    "    EC.presence_of_element_located((By.XPATH, '//*[@id=\"title\"]/h1'))\n",
    ")\n",
    "\n",
    "# 가져올 정보들 출력\n",
    "print(youtube_title.text)\n",
    "\n",
    "# 드라이버 종료\n",
    "driver.quit()"
   ]
  },
  {
   "cell_type": "code",
   "execution_count": null,
   "id": "036f9985",
   "metadata": {},
   "outputs": [],
   "source": []
  }
 ],
 "metadata": {
  "kernelspec": {
   "display_name": "env",
   "language": "python",
   "name": "python3"
  },
  "language_info": {
   "codemirror_mode": {
    "name": "ipython",
    "version": 3
   },
   "file_extension": ".py",
   "mimetype": "text/x-python",
   "name": "python",
   "nbconvert_exporter": "python",
   "pygments_lexer": "ipython3",
   "version": "3.9.6"
  }
 },
 "nbformat": 4,
 "nbformat_minor": 5
}
