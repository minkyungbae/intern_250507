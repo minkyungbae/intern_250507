{
 "cells": [
  {
   "cell_type": "code",
   "execution_count": null,
   "id": "89af9139",
   "metadata": {},
   "outputs": [],
   "source": [
    "pip install selenium"
   ]
  },
  {
   "cell_type": "code",
   "execution_count": 8,
   "id": "50bcffeb",
   "metadata": {},
   "outputs": [],
   "source": [
    "# selenium의 webdriver를 사용하기 위한 import\n",
    "from selenium import webdriver\n",
    "\n",
    "# selenium으로 키를 조작하기 위한 import\n",
    "from selenium.webdriver.common.keys import Keys\n",
    "\n",
    "# 로드될 때까지 기다리는 설정을 위한 import\n",
    "from selenium.webdriver.common.by import By\n",
    "from selenium.webdriver.support.ui import WebDriverWait\n",
    "from selenium.webdriver.support import expected_conditions as EC\n",
    "\n",
    "# 페이지 로딩을 기다리는데에 사용할 time 모듈 import\n",
    "import time\n",
    "\n",
    "# 크롬드라이버 실행\n",
    "driver = webdriver.Chrome() \n",
    "\n",
    "#크롬 드라이버에 url 주소 넣고 실행\n",
    "driver.get('https://youtu.be/w7uwgwj6aZM?si=kMxeRqkIo6AD--pn') # 침착맨 \"버거킹, 우리의 아이디어를 꼭 들어주길 바랍니다\"\n",
    "\n",
    "# 유튜브가 로드될 때까지 최대 60초 대기\n",
    "search_box = WebDriverWait(driver, 60).until(\n",
    "    EC.presence_of_element_located((By.NAME, \"search_query\"))\n",
    ")"
   ]
  }
 ],
 "metadata": {
  "kernelspec": {
   "display_name": "env",
   "language": "python",
   "name": "python3"
  },
  "language_info": {
   "codemirror_mode": {
    "name": "ipython",
    "version": 3
   },
   "file_extension": ".py",
   "mimetype": "text/x-python",
   "name": "python",
   "nbconvert_exporter": "python",
   "pygments_lexer": "ipython3",
   "version": "3.9.6"
  }
 },
 "nbformat": 4,
 "nbformat_minor": 5
}
