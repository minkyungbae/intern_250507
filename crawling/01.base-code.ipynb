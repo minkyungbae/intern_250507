{
 "cells": [
  {
   "cell_type": "code",
   "execution_count": 2,
   "id": "ef8cf11c",
   "metadata": {},
   "outputs": [
    {
     "name": "stdout",
     "output_type": "stream",
     "text": [
      "Collecting requests\n",
      "  Downloading requests-2.32.3-py3-none-any.whl.metadata (4.6 kB)\n",
      "Collecting charset-normalizer<4,>=2 (from requests)\n",
      "  Downloading charset_normalizer-3.4.2-cp39-cp39-macosx_10_9_universal2.whl.metadata (35 kB)\n",
      "Collecting idna<4,>=2.5 (from requests)\n",
      "  Downloading idna-3.10-py3-none-any.whl.metadata (10 kB)\n",
      "Collecting urllib3<3,>=1.21.1 (from requests)\n",
      "  Downloading urllib3-2.4.0-py3-none-any.whl.metadata (6.5 kB)\n",
      "Collecting certifi>=2017.4.17 (from requests)\n",
      "  Downloading certifi-2025.4.26-py3-none-any.whl.metadata (2.5 kB)\n",
      "Downloading requests-2.32.3-py3-none-any.whl (64 kB)\n",
      "Downloading charset_normalizer-3.4.2-cp39-cp39-macosx_10_9_universal2.whl (201 kB)\n",
      "Downloading idna-3.10-py3-none-any.whl (70 kB)\n",
      "Downloading urllib3-2.4.0-py3-none-any.whl (128 kB)\n",
      "Downloading certifi-2025.4.26-py3-none-any.whl (159 kB)\n",
      "Installing collected packages: urllib3, idna, charset-normalizer, certifi, requests\n",
      "\u001b[2K   \u001b[90m━━━━━━━━━━━━━━━━━━━━━━━━━━━━━━━━━━━━━━━━\u001b[0m \u001b[32m5/5\u001b[0m [requests]3/5\u001b[0m [certifi]\n",
      "\u001b[1A\u001b[2KSuccessfully installed certifi-2025.4.26 charset-normalizer-3.4.2 idna-3.10 requests-2.32.3 urllib3-2.4.0\n",
      "Note: you may need to restart the kernel to use updated packages.\n"
     ]
    }
   ],
   "source": [
    "pip install requests"
   ]
  },
  {
   "cell_type": "code",
   "execution_count": 1,
   "id": "c82c3f04",
   "metadata": {},
   "outputs": [
    {
     "name": "stdout",
     "output_type": "stream",
     "text": [
      "Collecting bs4\n",
      "  Downloading bs4-0.0.2-py2.py3-none-any.whl.metadata (411 bytes)\n",
      "Collecting beautifulsoup4 (from bs4)\n",
      "  Downloading beautifulsoup4-4.13.4-py3-none-any.whl.metadata (3.8 kB)\n",
      "Collecting soupsieve>1.2 (from beautifulsoup4->bs4)\n",
      "  Downloading soupsieve-2.7-py3-none-any.whl.metadata (4.6 kB)\n",
      "Requirement already satisfied: typing-extensions>=4.0.0 in /Users/mac/Desktop/minmin/intern/rhoonart/env/lib/python3.9/site-packages (from beautifulsoup4->bs4) (4.13.2)\n",
      "Downloading bs4-0.0.2-py2.py3-none-any.whl (1.2 kB)\n",
      "Downloading beautifulsoup4-4.13.4-py3-none-any.whl (187 kB)\n",
      "Downloading soupsieve-2.7-py3-none-any.whl (36 kB)\n",
      "Installing collected packages: soupsieve, beautifulsoup4, bs4\n",
      "\u001b[2K   \u001b[90m━━━━━━━━━━━━━━━━━━━━━━━━━━━━━━━━━━━━━━━━\u001b[0m \u001b[32m3/3\u001b[0m [bs4]\u001b[32m1/3\u001b[0m [beautifulsoup4]\n",
      "\u001b[1A\u001b[2KSuccessfully installed beautifulsoup4-4.13.4 bs4-0.0.2 soupsieve-2.7\n",
      "Note: you may need to restart the kernel to use updated packages.\n"
     ]
    }
   ],
   "source": [
    "pip install bs4"
   ]
  },
  {
   "cell_type": "code",
   "execution_count": null,
   "id": "2585755d",
   "metadata": {},
   "outputs": [],
   "source": [
    "# base code\n",
    "# 이케아 사이트로 작동 확인함\n",
    "import requests\n",
    "from bs4 import BeautifulSoup\n",
    "\n",
    "response = requests.get(\"https://www.ikea.com/kr/ko/offers/family-offers/?filters=f-subcategories%3Afu001\")\n",
    "html = response.text\n",
    "soup = BeautifulSoup(html, \"html.parser\")"
   ]
  },
  {
   "cell_type": "code",
   "execution_count": 13,
   "id": "18d4cd0e",
   "metadata": {},
   "outputs": [
    {
     "data": {
      "text/plain": [
       "<div class=\"plp-fragment-wrapper\"><div class=\"plp-mastercard\" data-cs-capture=\"\" data-currency=\"KRW\" data-price=\"4400\" data-product-compact=\"\" data-product-name=\"RINNIG 린니그\" data-product-number=\"80476348\" data-ref-id=\"80476348\" data-testid=\"plp-product-card\"><div class=\"plp-mastercard__item plp-mastercard__compare\"><div class=\"plp-listing-compare-wrapper\"><span class=\"plp-checkbox--subtle plp-checkbox plp-listing-compare-checkbox\"><input aria-label=\"제품 비교를 위해 선택, 행주, 45x60 cm\" id=\"plp-compact-compare-checkbox-80476348\" name=\"checkboxname\" type=\"checkbox\" value=\"compare-80476348\"/><span class=\"plp-checkbox__symbol\"></span><span class=\"plp-checkbox__label\"><label for=\"plp-compact-compare-checkbox-80476348\">비교</label></span></span></div></div><div class=\"plp-mastercard__item plp-mastercard__image\"><p class=\"plp-product-badge plp-product-badge--top-seller\">베스트셀러</p><a aria-disabled=\"false\" class=\"plp-product__image-link link\" href=\"https://www.ikea.com/kr/ko/p/rinnig-tea-towel-white-dark-grey-patterned-80476348/\"><img alt=\"RINNIG 린니그 행주, 화이트/다크그레이/패턴, 45x60 cm\" class=\"plp-image plp-product__image\" fetchpriority=\"high\" loading=\"eager\" src=\"https://www.ikea.com/kr/ko/images/products/rinnig-tea-towel-white-dark-grey-patterned__0813216_pe772338_s5.jpg?f=xxs\"><img alt=\"RINNIG 린니그 행주, 화이트/다크그레이/패턴, 45x60 cm\" class=\"image plp-product__image plp-product__image--alt\" loading=\"lazy\" src=\"https://www.ikea.com/kr/ko/images/products/rinnig-tea-towel-white-dark-grey-patterned__1431345_pe982348_s5.jpg?f=xxs\"/></img></a></div><div class=\"plp-mastercard__item plp-mastercard__price\"><a aria-disabled=\"false\" class=\"plp-price-link-wrapper link\" href=\"https://www.ikea.com/kr/ko/p/rinnig-tea-towel-white-dark-grey-patterned-80476348/\"><div class=\"plp-price-module plp-price-module--small plp-price-module--with-commercial-message plp-price-module--family\"><div class=\"plp-price-module__information\"><div class=\"plp-commercial-message plp-commercial-message--subtle plp-commercial-message--subtle--family\"><span class=\"plp-commercial-message__title\">IKEA Family 특별가</span></div><h3 class=\"plp-price-module__name\"><span class=\"plp-price-module__name-decorator notranslate\"><span class=\"notranslate plp-price-module__product-name\">RINNIG 린니그</span></span> <span class=\"plp-price-module__description\">행주, 화이트/다크그레이/패턴, 45x60 cm</span></h3></div><div class=\"plp-price-module__price\"><div class=\"plp-price-module__primary-currency-price\"><span class=\"plp-price plp-price--leading plp-price--leading plp-price--medium plp-price--currency-super-aligned plp-price--decimal-super-aligned plp-price-module__current-price notranslate\"><span aria-hidden=\"true\" class=\"notranslate\"><span class=\"plp-price__nowrap\"><span class=\"plp-price__currency\">￦</span><span class=\"plp-price__integer\">4,400</span></span><span class=\"plp-price__subscript\">/4 개</span></span><span class=\"plp-price__sr-text\">가격 ￦ 4400/4 개</span></span></div></div><div class=\"plp-price-module__addons\"><div class=\"plp-price-module__addon\"><span aria-hidden=\"true\">정가 </span><span class=\"plp-price plp-price--leading plp-price--fixed-size plp-price--leading plp-price--medium plp-price--regular-font-weight notranslate\"><span aria-hidden=\"true\" class=\"notranslate\"><span class=\"plp-price__nowrap\"><span class=\"plp-price__currency\">￦</span><span class=\"plp-price__integer\">4,900</span></span><span class=\"plp-price__subscript\">/4 개</span></span><span class=\"plp-price__sr-text\">정가 ￦ 4900/4 개</span></span></div><div class=\"plp-price-module__addon\"><p>2025.04.03 - 2025.06.17 재고 소진 시까지</p></div></div></div></a><button class=\"plp-rating plp-ratings--product-card\"><span aria-label=\"검토: 4.5 밖으로 5 별. 총 리뷰 수: \" class=\"plp-rating__stars plp-rating__stars--small\" role=\"img\" style=\"--rating:90%;--ceil-max-rating:5\"></span><span class=\"plp-rating__label\">(3866)</span></button></div><div class=\"plp-mastercard__item plp-mastercard__button-container\"><div class=\"plp-button-container plp-button-container--hidden\"><button aria-label='\"RINNIG 린니그 행주\" 장바구니에 추가' class=\"plp-btn plp-btn--small plp-btn--icon-emphasised\" type=\"button\"><span class=\"plp-btn__inner\"><svg aria-hidden=\"true\" class=\"plp-svg-icon plp-btn__icon\" focusable=\"false\" height=\"24\" viewbox=\"0 0 24 24\" width=\"24\"><use xlink:href=\"#plp-add_to_cart\"></use></svg></span></button></div></div><div class=\"plp-mastercard__item plp-mastercard__thumbnails\"></div></div></div>"
      ]
     },
     "execution_count": 13,
     "metadata": {},
     "output_type": "execute_result"
    }
   ],
   "source": [
    "soup.select_one(\".plp-fragment-wrapper\")"
   ]
  },
  {
   "cell_type": "code",
   "execution_count": 11,
   "id": "872efd77",
   "metadata": {},
   "outputs": [
    {
     "data": {
      "text/plain": [
       "'비교베스트셀러IKEA Family 특별가RINNIG 린니그 행주, 화이트/다크그레이/패턴, 45x60 cm￦4,400/4 개가격 ￦ 4400/4 개정가 ￦4,900/4 개정가 ￦ 4900/4 개2025.04.03 - 2025.06.17 재고 소진 시까지(3866)'"
      ]
     },
     "execution_count": 11,
     "metadata": {},
     "output_type": "execute_result"
    }
   ],
   "source": [
    "soup.select_one(\".plp-fragment-wrapper\").text"
   ]
  },
  {
   "cell_type": "code",
   "execution_count": 12,
   "id": "82324eb1",
   "metadata": {},
   "outputs": [
    {
     "data": {
      "text/plain": [
       "{'class': ['plp-fragment-wrapper']}"
      ]
     },
     "execution_count": 12,
     "metadata": {},
     "output_type": "execute_result"
    }
   ],
   "source": [
    "soup.select_one(\".plp-fragment-wrapper\").attrs"
   ]
  }
 ],
 "metadata": {
  "kernelspec": {
   "display_name": "env",
   "language": "python",
   "name": "python3"
  },
  "language_info": {
   "codemirror_mode": {
    "name": "ipython",
    "version": 3
   },
   "file_extension": ".py",
   "mimetype": "text/x-python",
   "name": "python",
   "nbconvert_exporter": "python",
   "pygments_lexer": "ipython3",
   "version": "3.9.6"
  }
 },
 "nbformat": 4,
 "nbformat_minor": 5
}
