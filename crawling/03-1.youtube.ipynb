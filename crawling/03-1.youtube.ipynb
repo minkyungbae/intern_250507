{
 "cells": [
  {
   "cell_type": "code",
   "execution_count": null,
   "id": "89b25141",
   "metadata": {},
   "outputs": [],
   "source": [
    "#20250514 Wed, jeri\n",
    "\"\"\"\n",
    "출력 방식 변경: 조회수, 업로드일\n",
    "추가한 내용: 상품 조회, 영상의 더보기 설명란\n",
    "\"\"\"\n",
    "from selenium import webdriver\n",
    "from selenium.webdriver.common.keys import Keys\n",
    "from selenium.webdriver.common.by import By\n",
    "from selenium.webdriver.support.ui import WebDriverWait\n",
    "from selenium.webdriver.support import expected_conditions as EC\n",
    "from bs4 import BeautifulSoup\n",
    "import json\n",
    "import time\n",
    "import os\n",
    "import pandas as pd\n",
    "from datetime import datetime\n",
    "\n",
    "# 옵션 설정\n",
    "options = webdriver.ChromeOptions()\n",
    "# options.add_argument('--headless')\n",
    "options.add_argument('--disable-gpu')\n",
    "options.add_argument('--no-sandbox')\n",
    "options.add_argument('--disable-dev-shm-usage')\n",
    "\n",
    "# 크롬 드라이버 실행\n",
    "driver = webdriver.Chrome(options=options)\n",
    "\n",
    "# 드라이버가 실행될 영상 url\n",
    "driver.get('')\n",
    "\n",
    "\"\"\"\n",
    "영상 제목, 채널명, 구독자 수, 조회수, 업로드 날짜, 상품, 더보기란의 설명\n",
    "\"\"\"\n",
    "# 영상에서 들고온 정보들을 담을 딕셔너리\n",
    "base_info_results = {}\n",
    "\n",
    "\n"
   ]
  }
 ],
 "metadata": {
  "language_info": {
   "name": "python"
  }
 },
 "nbformat": 4,
 "nbformat_minor": 5
}
